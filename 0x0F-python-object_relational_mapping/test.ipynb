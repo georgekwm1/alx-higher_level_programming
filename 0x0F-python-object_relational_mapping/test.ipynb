{
 "cells": [
  {
   "cell_type": "markdown",
   "metadata": {},
   "source": [
    "TASK 0"
   ]
  },
  {
   "cell_type": "code",
   "execution_count": 8,
   "metadata": {},
   "outputs": [
    {
     "name": "stdout",
     "output_type": "stream",
     "text": [
      "('hbtn_0e_0_usa',)\n",
      "('information_schema',)\n",
      "('jireh',)\n",
      "('mysql',)\n",
      "('performance_schema',)\n",
      "('sakila',)\n",
      "('sys',)\n",
      "('world',)\n"
     ]
    }
   ],
   "source": [
    "import MySQLdb\n",
    "\n",
    "db = MySQLdb.connect(host=\"localhost\", user=\"root\", passwd=\"1amge0rge.\")\n",
    "cursor = db.cursor()\n",
    "\n",
    "cursor.execute(\"DROP DATABASE IF EXISTS hbtn_0e_0_usa\")\n",
    "cursor.execute(\"CREATE DATABASE hbtn_0e_0_usa\")\n",
    "cursor.execute(\"\"\"\n",
    "SELECT schema_name AS `Database`\n",
    "FROM information_schema.schemata\n",
    "ORDER BY schema_name               \n",
    "\"\"\")\n",
    "for database in cursor.fetchall():\n",
    "        print(\"{}\".format(database))"
   ]
  },
  {
   "cell_type": "code",
   "execution_count": 9,
   "metadata": {},
   "outputs": [
    {
     "name": "stdout",
     "output_type": "stream",
     "text": [
      "(1, 'California')\n",
      "(2, 'Arizona')\n",
      "(3, 'Texas')\n",
      "(4, 'New York')\n",
      "(5, 'Nevada')\n"
     ]
    }
   ],
   "source": [
    "cursor.execute(\"USE hbtn_0e_0_usa\")\n",
    "create_table = \"\"\"\n",
    "CREATE TABLE IF NOT EXISTS states ( \n",
    "    id INT NOT NULL AUTO_INCREMENT, \n",
    "    name VARCHAR(256) NOT NULL,\n",
    "    PRIMARY KEY (id))\n",
    "\"\"\"\n",
    "cursor.execute(create_table)\n",
    "insert_values = \"\"\"\n",
    "INSERT INTO states (name) \n",
    "VALUES (\"California\"), (\"Arizona\"), (\"Texas\"),\n",
    " (\"New York\"), (\"Nevada\")\n",
    "\"\"\"\n",
    "cursor.execute(insert_values)\n",
    "cursor.execute(\"SELECT * FROM states\")\n",
    "for state in cursor.fetchall():\n",
    "    print(state)"
   ]
  },
  {
   "cell_type": "code",
   "execution_count": null,
   "metadata": {},
   "outputs": [],
   "source": []
  },
  {
   "cell_type": "markdown",
   "metadata": {},
   "source": [
    "TASK 1"
   ]
  },
  {
   "cell_type": "code",
   "execution_count": 15,
   "metadata": {},
   "outputs": [],
   "source": [
    "import MySQLdb\n",
    "\n",
    "db = MySQLdb.connect(host=\"localhost\",\n",
    "                      user=\"root\",\n",
    "                       passwd=\"1amge0rge.\",\n",
    "                       database = \"hbtn_0e_0_usa\")\n",
    "new_cursor = db.cursor()\n",
    "\n",
    "new_cursor.execute(\"SELECT * FROM states WHERE name LIKE '%e%' ORDER BY id ASC\")\n",
    "for state in new_cursor.fetchall():\n",
    "    print(f\"{state}\")\n"
   ]
  },
  {
   "cell_type": "markdown",
   "metadata": {},
   "source": [
    "TASK 2"
   ]
  },
  {
   "cell_type": "code",
   "execution_count": 14,
   "metadata": {},
   "outputs": [],
   "source": [
    "import MySQLdb\n",
    "\n",
    "db = MySQLdb.connect(host=\"localhost\",\n",
    "                      user=\"root\",\n",
    "                       passwd=\"1amge0rge.\",\n",
    "                       database = \"hbtn_0e_0_usa\")\n",
    "new_cursor = db.cursor()\n",
    "\n",
    "new_cursor.execute(\"SELECT * FROM states WHERE name = 'Arizona' ORDER BY id ASC\")\n",
    "for state in new_cursor.fetchall():\n",
    "    print(f\"{state}\")"
   ]
  }
 ],
 "metadata": {
  "kernelspec": {
   "display_name": "Python 3",
   "language": "python",
   "name": "python3"
  },
  "language_info": {
   "codemirror_mode": {
    "name": "ipython",
    "version": 3
   },
   "file_extension": ".py",
   "mimetype": "text/x-python",
   "name": "python",
   "nbconvert_exporter": "python",
   "pygments_lexer": "ipython3",
   "version": "3.12.2"
  }
 },
 "nbformat": 4,
 "nbformat_minor": 2
}
